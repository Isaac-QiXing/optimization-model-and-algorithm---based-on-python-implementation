{
 "cells": [
  {
   "cell_type": "markdown",
   "metadata": {},
   "source": [
    "考虑线性测量b=Ax+e，其中b为50维的测量值，A为50*100维的测量矩阵，x为100维的未知稀疏向量且稀疏度为5，e为50维的测量噪声。从b和A中恢复x的一范数规范化最小二乘法模型\n",
    "\\begin{equation}\n",
    "\\min \\|A x-b\\|_{2}^{2}+(p / 2)\\|x\\|_{1}\n",
    "\\end{equation}\n",
    "p是非负的正则化参数"
   ]
  },
  {
   "cell_type": "code",
   "execution_count": 1,
   "metadata": {},
   "outputs": [],
   "source": [
    "import numpy as np\n",
    "import random"
   ]
  },
  {
   "cell_type": "code",
   "execution_count": 2,
   "metadata": {},
   "outputs": [],
   "source": [
    "#生成数据\n",
    "ASize = (50, 100)\n",
    "XSize = 100\n",
    "A = np.random.normal(0, 1, ASize)\n",
    "X = np.zeros(XSize)\n",
    "e = np.random.normal(0, 0.1, 50)\n",
    "XIndex = random.sample(list(range(XSize)), 5) \n",
    "for xi in XIndex:\n",
    "    X[xi] = np.random.randn()"
   ]
  },
  {
   "cell_type": "code",
   "execution_count": 3,
   "metadata": {},
   "outputs": [],
   "source": [
    "b = np.dot(A, X) + e\n",
    "np.save(\"A.npy\", A)\n",
    "np.save(\"X.npy\", X)\n",
    "np.save(\"b.npy\", b)"
   ]
  },
  {
   "cell_type": "code",
   "execution_count": 4,
   "metadata": {},
   "outputs": [
    {
     "name": "stdout",
     "output_type": "stream",
     "text": [
      "[-7.44050426e-03 -1.08739123e-03 -6.59327401e-03 -1.56234521e-04\n",
      " -1.90492528e-05 -1.90035092e-03 -7.38128368e-03  5.15264827e-04\n",
      "  1.77177686e+00  2.20572938e-02 -7.52057468e-04  4.63833790e-04\n",
      " -6.69330296e-04 -6.43933679e-04  3.44994453e-02  3.18036761e-02\n",
      "  1.85730864e-02  9.40107561e-05  2.42074948e-04  3.99258106e-04\n",
      " -3.17840353e-02 -1.88303879e-02  7.99618254e-04  1.12793476e-04\n",
      "  1.21984247e-02  1.13471219e-03 -7.46290955e-03  9.17504968e-04\n",
      "  1.06064538e-03  6.25756645e-03 -9.09414285e-03 -3.11005406e-04\n",
      "  1.83117388e-03 -1.91537563e-03  1.61368266e+00 -5.60529587e-04\n",
      "  9.55403438e-04 -3.44976291e-03  1.15138415e-03 -2.28295224e-04\n",
      " -2.95568860e-04 -1.22697735e-03 -1.60107968e-03  2.48199525e-02\n",
      " -9.52307055e-04 -1.82213953e+00 -3.22329459e-04 -3.04728903e-04\n",
      "  6.39882629e-04  1.81549107e-03 -2.19257475e-04  7.27887593e-04\n",
      "  4.05232691e-04 -1.15119210e-02 -2.84164751e-02  7.07602258e-04\n",
      " -2.57018340e-02  1.83988849e-02 -8.74373893e-03 -2.91959640e-04\n",
      "  4.51097104e-02 -7.03308615e-03  2.79084303e-02  7.97290597e-04\n",
      " -1.02872795e-03 -3.35924835e-05 -1.04418412e-03  3.08248278e-02\n",
      "  4.39463905e-04 -4.78731785e-04 -5.62895519e-04  5.69369492e-05\n",
      "  9.83626661e-01  2.37359505e-04  1.05505088e-03 -9.73402152e-03\n",
      "  1.07143725e-02  2.08976003e-03 -5.24360022e-04 -4.13979996e-04\n",
      " -9.36051743e-04  3.43684950e-04 -7.75717689e-04 -2.31549809e-04\n",
      "  1.20681969e-03  8.10403029e-05  2.45920589e-04  1.07618961e-03\n",
      " -6.73218392e-04  1.41007624e-04  3.56234928e-04 -1.26391345e-03\n",
      "  9.58589613e-01  2.47181756e-04  3.07169138e-02 -1.22525022e-03\n",
      " -3.86671106e-04 -1.20407723e-02 -2.59672206e-04 -7.74268078e-03]\n",
      "[ 0.          0.          0.          0.          0.          0.\n",
      "  0.          0.          1.7666127   0.          0.          0.\n",
      "  0.          0.          0.          0.          0.          0.\n",
      "  0.          0.          0.          0.          0.          0.\n",
      "  0.          0.          0.          0.          0.          0.\n",
      "  0.          0.          0.          0.          1.64187957  0.\n",
      "  0.          0.          0.          0.          0.          0.\n",
      "  0.          0.          0.         -1.87090285  0.          0.\n",
      "  0.          0.          0.          0.          0.          0.\n",
      "  0.          0.          0.          0.          0.          0.\n",
      "  0.          0.          0.          0.          0.          0.\n",
      "  0.          0.          0.          0.          0.          0.\n",
      "  1.00818558  0.          0.          0.          0.          0.\n",
      "  0.          0.          0.          0.          0.          0.\n",
      "  0.          0.          0.          0.          0.          0.\n",
      "  0.          0.          0.97502289  0.          0.          0.\n",
      "  0.          0.          0.          0.        ]\n"
     ]
    }
   ],
   "source": [
    "#ADMM算法\n",
    "import matplotlib.pyplot as plt\n",
    "import numpy as np\n",
    "\n",
    "A = np.load('A.npy')\n",
    "b = np.load('b.npy')\n",
    "X = np.load('X.npy')\n",
    "\n",
    "ASize = (50, 100)\n",
    "BSize = 50\n",
    "XSize = 100\n",
    "\n",
    "P_half = 0.01 #\\lambda\n",
    "c = 0.005 #\\rho\n",
    "Xk = np.zeros(XSize)\n",
    "Zk = np.zeros(XSize)\n",
    "Vk = np.zeros(XSize)\n",
    "\n",
    "X_opt_dst_steps = []\n",
    "X_dst_steps = []\n",
    "\n",
    "while True:\n",
    "    Xk_new = np.dot(\n",
    "        np.linalg.inv(np.dot(A.T, A) + c * np.eye(XSize, XSize)),\n",
    "        c*Zk + Vk + np.dot(A.T, b)\n",
    "    )\n",
    "\n",
    "    # 软阈值算子\n",
    "    Zk_new = np.zeros(XSize)\n",
    "    for i in range(XSize):\n",
    "        if Xk_new[i] - Vk[i] / c < - P_half / c:\n",
    "            Zk_new[i] = Xk_new[i] - Vk[i] / c + P_half / c\n",
    "        elif Xk_new[i] - Vk[i] / c > P_half / c:\n",
    "            Zk_new[i] = Xk_new[i] - Vk[i] / c - P_half / c\n",
    "\n",
    "    Vk_new = Vk + c * (Zk_new - Xk_new)\n",
    "\n",
    "    X_dst_steps.append(np.linalg.norm(Xk_new - X, ord=2))\n",
    "    X_opt_dst_steps.append(Xk_new)\n",
    "    if np.linalg.norm(Xk_new - Xk, ord=2) < 1e-5:\n",
    "        break\n",
    "    else:\n",
    "        Xk = Xk_new.copy()\n",
    "        Zk = Zk_new.copy()\n",
    "        Vk = Vk_new.copy()\n",
    "\n",
    "print(Xk)\n",
    "        \n",
    "print(X)"
   ]
  },
  {
   "cell_type": "code",
   "execution_count": 5,
   "metadata": {},
   "outputs": [
    {
     "data": {
      "image/png": "[encoded data removed]",
      "text/plain": [
       "<Figure size 432x288 with 1 Axes>"
      ]
     },
     "metadata": {
      "needs_background": "light"
     },
     "output_type": "display_data"
    }
   ],
   "source": [
    "X_opt = X_opt_dst_steps[-1]\n",
    "\n",
    "for i, data in enumerate(X_opt_dst_steps):\n",
    "    X_opt_dst_steps[i] = np.linalg.norm(data - X_opt, ord=2)\n",
    "plt.title(\"Distance\")\n",
    "plt.plot(X_opt_dst_steps, label='X-opt-distance')\n",
    "plt.plot(X_dst_steps, label='X-real-distance')\n",
    "plt.legend()\n",
    "plt.show()\n"
   ]
  },
  {
   "cell_type": "code",
   "execution_count": null,
   "metadata": {},
   "outputs": [],
   "source": []
  }
 ],
 "metadata": {
  "kernelspec": {
   "display_name": "Python 3",
   "language": "python",
   "name": "python3"
  },
  "language_info": {
   "codemirror_mode": {
    "name": "ipython",
    "version": 3
   },
   "file_extension": ".py",
   "mimetype": "text/x-python",
   "name": "python",
   "nbconvert_exporter": "python",
   "pygments_lexer": "ipython3",
   "version": "3.8.5"
  }
 },
 "nbformat": 4,
 "nbformat_minor": 4
}
